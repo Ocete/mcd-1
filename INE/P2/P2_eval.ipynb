{
 "cells": [
  {
   "cell_type": "markdown",
   "metadata": {},
   "source": [
    "*Antonio Coín Castro   \n",
    "INE*"
   ]
  },
  {
   "cell_type": "markdown",
   "metadata": {},
   "source": [
    "\n",
    "# Práctica 2: evaluación\n",
    "\n",
    "*Nota: las referencias consultadas se listan al final del documento.*"
   ]
  },
  {
   "cell_type": "code",
   "execution_count": 1,
   "metadata": {
    "ExecuteTime": {
     "end_time": "2021-03-16T14:04:13.894002Z",
     "start_time": "2021-03-16T14:04:10.271438Z"
    }
   },
   "outputs": [],
   "source": [
    "import matplotlib.pyplot as plt\n",
    "import pandas as pd\n",
    "import numpy as np\n",
    "\n",
    "import aux\n",
    "\n",
    "%reload_ext autoreload\n",
    "%autoreload 2\n",
    "\n",
    "np.random.seed(2021)"
   ]
  },
  {
   "cell_type": "markdown",
   "metadata": {},
   "source": [
    "## Evaluación offline\n",
    "\n",
    "Utilizando el conjunto de datos introducidos por los estudiantes, suponiendo que los documentos no juzgados son todos irrelevantes (i.e. pooling profundidad 10), calcular para cada buscador:\n",
    "\n",
    "- Precisión, Recall y Media Armónica.\n",
    "- Mean Average Precision (MAP).\n",
    "- Mean Reciprocal Rank (MRR).\n",
    "- nDCG.\n",
    "- Expected Reciprocal Rank (ERR) y Rank-Biased Precision (RBP, con p a elegir).\n",
    "\n",
    "Realizar el cálculo por cada consulta, así como el promedio por buscador.\n",
    "\n",
    "*Nota: todos los resultados que se muestran a continuación **coinciden con los que proporcionan las utilidades [trec_eval](https://github.com/usnistgov/trec_eval) ó [ndeval](https://github.com/trec-web/trec-web-2014)** al ejecutarla sobre los datos que hemos usado.*"
   ]
  },
  {
   "cell_type": "markdown",
   "metadata": {},
   "source": [
    "### Lectura de datos\n",
    "\n",
    "Hemos puesto el id de la consulta 30 a 28 para que sean todos consecutivos, ya que no existen la consulta 28 ni 29. \n",
    "\n",
    "Además, hemos eliminado todas las entradas de los archivos con errores de formato, considerando que los documentos correspondientes no eran relevantes. Es por esto que en algunas métricas realmente no estaremos haciendo el cálculo $@10$ exactamente para todas las consultas, pues puede que en algunas de ellas haya menos de 10 documentos devueltos por buscador."
   ]
  },
  {
   "cell_type": "code",
   "execution_count": 2,
   "metadata": {
    "ExecuteTime": {
     "end_time": "2021-03-16T14:04:14.085344Z",
     "start_time": "2021-03-16T14:04:13.908346Z"
    }
   },
   "outputs": [],
   "source": [
    "# Load data\n",
    "\n",
    "rels_engine = pd.read_csv(\n",
    "    \"data/rels_engine.csv\",\n",
    "    usecols=[0, 2, 3, 5],\n",
    "    header=0,\n",
    "    names=[\"id\", \"url\", \"rank\", \"engine\"]\n",
    ")\n",
    "\n",
    "qrels = pd.read_csv(\n",
    "    \"data/qrels.csv\",\n",
    "    usecols=[0, 2, 3],\n",
    "    header=0,\n",
    "    names=[\"id\", \"url\", \"relevance\"]\n",
    ")\n",
    "\n",
    "# Sort dataframes\n",
    "\n",
    "rels_engine = rels_engine.sort_values(\n",
    "    by=[\"id\", \"engine\", \"rank\"]\n",
    ")\n",
    "\n",
    "qrels = qrels.sort_values(by=[\"id\", \"relevance\"])"
   ]
  },
  {
   "cell_type": "code",
   "execution_count": 3,
   "metadata": {
    "ExecuteTime": {
     "end_time": "2021-03-16T14:04:14.325936Z",
     "start_time": "2021-03-16T14:04:14.099429Z"
    }
   },
   "outputs": [
    {
     "data": {
      "text/html": [
       "<div>\n",
       "<style scoped>\n",
       "    .dataframe tbody tr th:only-of-type {\n",
       "        vertical-align: middle;\n",
       "    }\n",
       "\n",
       "    .dataframe tbody tr th {\n",
       "        vertical-align: top;\n",
       "    }\n",
       "\n",
       "    .dataframe thead th {\n",
       "        text-align: right;\n",
       "    }\n",
       "</style>\n",
       "<table border=\"1\" class=\"dataframe\">\n",
       "  <thead>\n",
       "    <tr style=\"text-align: right;\">\n",
       "      <th></th>\n",
       "      <th>id</th>\n",
       "      <th>url</th>\n",
       "      <th>rank</th>\n",
       "      <th>engine</th>\n",
       "      <th>relevance</th>\n",
       "    </tr>\n",
       "  </thead>\n",
       "  <tbody>\n",
       "    <tr>\n",
       "      <th>0</th>\n",
       "      <td>0</td>\n",
       "      <td>http://en.wikipedia.org/wiki/Information_retri...</td>\n",
       "      <td>1</td>\n",
       "      <td>bing</td>\n",
       "      <td>0</td>\n",
       "    </tr>\n",
       "    <tr>\n",
       "      <th>1</th>\n",
       "      <td>0</td>\n",
       "      <td>http://en.wikipedia.org/wiki/Information_theory</td>\n",
       "      <td>2</td>\n",
       "      <td>bing</td>\n",
       "      <td>1</td>\n",
       "    </tr>\n",
       "    <tr>\n",
       "      <th>2</th>\n",
       "      <td>0</td>\n",
       "      <td>http://nlp.stanford.edu/IR-book/pdf/irbookonli...</td>\n",
       "      <td>3</td>\n",
       "      <td>bing</td>\n",
       "      <td>1</td>\n",
       "    </tr>\n",
       "    <tr>\n",
       "      <th>3</th>\n",
       "      <td>0</td>\n",
       "      <td>http://www.britannica.com/topic/retrieval</td>\n",
       "      <td>4</td>\n",
       "      <td>bing</td>\n",
       "      <td>0</td>\n",
       "    </tr>\n",
       "    <tr>\n",
       "      <th>4</th>\n",
       "      <td>0</td>\n",
       "      <td>http://nlp.stanford.edu/IR-book/information-re...</td>\n",
       "      <td>5</td>\n",
       "      <td>bing</td>\n",
       "      <td>0</td>\n",
       "    </tr>\n",
       "  </tbody>\n",
       "</table>\n",
       "</div>"
      ],
      "text/plain": [
       "   id                                                url  rank engine  \\\n",
       "0   0  http://en.wikipedia.org/wiki/Information_retri...     1   bing   \n",
       "1   0    http://en.wikipedia.org/wiki/Information_theory     2   bing   \n",
       "2   0  http://nlp.stanford.edu/IR-book/pdf/irbookonli...     3   bing   \n",
       "3   0          http://www.britannica.com/topic/retrieval     4   bing   \n",
       "4   0  http://nlp.stanford.edu/IR-book/information-re...     5   bing   \n",
       "\n",
       "   relevance  \n",
       "0          0  \n",
       "1          1  \n",
       "2          1  \n",
       "3          0  \n",
       "4          0  "
      ]
     },
     "execution_count": 3,
     "metadata": {},
     "output_type": "execute_result"
    }
   ],
   "source": [
    "# Cross join of tables\n",
    "df = rels_engine.merge(qrels, on=['id', 'url'], how='outer')\n",
    "\n",
    "# Sort dataframe\n",
    "df = df.sort_values(by=[\"id\", \"engine\", \"rank\"])\n",
    "\n",
    "# Sneak peek at dataframe\n",
    "df.head()"
   ]
  },
  {
   "cell_type": "code",
   "execution_count": 4,
   "metadata": {
    "ExecuteTime": {
     "end_time": "2021-03-16T14:04:14.429764Z",
     "start_time": "2021-03-16T14:04:14.342465Z"
    }
   },
   "outputs": [],
   "source": [
    "# Save useful information\n",
    "engines = df['engine'].unique()\n",
    "N = len(df['id'].unique())\n",
    "M = len(engines)\n",
    "AT = 10  # metrics @10"
   ]
  },
  {
   "cell_type": "markdown",
   "metadata": {},
   "source": [
    "### Precisión (P), Recall (R) y media armónica (F)\n",
    "\n",
    "Calculamos estas métricas para cada consulta y cada buscador, y luego hacemos estadísticas globales por buscadores. Las fórmulas utilizadas son:\n",
    "\n",
    "$$\n",
    "P_q^{(s)} = \\frac{|Ret_q^{(s)} \\cap Rel_q^{(s)}|}{|Ret_q^{(s)}|}, \\quad R_q^{(s)} = \\frac{|Ret_q^{(s)} \\cap Rel_q^{(s)}|}{|Rel_q|}, \\quad F_q^{(s)} = \\frac{2P_q^{(s)}R_q^{(s)}}{P_q^{(s)}+R_q^{(s)}},\n",
    "$$\n",
    "\n",
    "donde:\n",
    "\n",
    "- $Ret_q^{(s)}$ es el conjunto de documentos devueltos por el buscador $s$ para la consulta $q$, que en nuestro caso estamos considerando que tiene 10 elementos.\n",
    "- $Rel_q^{(s)}$ es el conjunto de documentos relevantes para la consulta $q$ en el buscador $s$.\n",
    "- $Rel_q$ es el conjunto completo de documentos relevantes para la consulta $q$ (que suponemos que es únicamente la unión de los documentos relevantes devueltos por todos los buscadores para esa consulta).\n",
    "\n",
    "Además, si en algún caso tanto la Precisión como el Recall valen 0, establecemos que la correspondiente Media Armónica también vale 0. Notamos que como para cada buscador solo consideramos los 10 primeros documentos, realmente estamos calculando todas las métricas $@10$."
   ]
  },
  {
   "cell_type": "code",
   "execution_count": 5,
   "metadata": {
    "ExecuteTime": {
     "end_time": "2021-03-16T14:04:15.018789Z",
     "start_time": "2021-03-16T14:04:14.440509Z"
    }
   },
   "outputs": [],
   "source": [
    "P = np.zeros((N, M))\n",
    "R = np.zeros((N, M))\n",
    "F = np.zeros((N, M))\n",
    "\n",
    "for i in range(N):\n",
    "    total_relevant_idx = sum(\n",
    "        (qrels['relevance'] > 0) & (qrels['id'] == i)\n",
    "    )\n",
    "    df_idx = df[df['id'] == i]\n",
    "\n",
    "    for j in range(M):\n",
    "        relevant_eng = sum(\n",
    "            (df_idx['engine'] == engines[j])\n",
    "            & (df_idx['relevance'] > 0)\n",
    "        )\n",
    "\n",
    "        # Precision\n",
    "        P[i, j] = relevant_eng/AT\n",
    "\n",
    "        # Recall\n",
    "        R[i, j] = relevant_eng/total_relevant_idx\n",
    "\n",
    "        # Harmonic mean\n",
    "        F[i, j] = 2*P[i, j]*R[i, j] / \\\n",
    "            (P[i, j] + R[i, j]) if relevant_eng > 0 else 0.0\n",
    "\n",
    "metrics = {\n",
    "    'Precisión': P,\n",
    "    'Recall': R,\n",
    "    'Media armónica': F\n",
    "}"
   ]
  },
  {
   "cell_type": "markdown",
   "metadata": {},
   "source": [
    "Enseñamos las estadísticas de un par de consultas al azar."
   ]
  },
  {
   "cell_type": "code",
   "execution_count": 6,
   "metadata": {
    "ExecuteTime": {
     "end_time": "2021-03-16T14:04:16.887233Z",
     "start_time": "2021-03-16T14:04:15.030780Z"
    }
   },
   "outputs": [
    {
     "data": {
      "image/png": "[encoded data removed]",
      "text/plain": [
       "<Figure size 864x288 with 2 Axes>"
      ]
     },
     "metadata": {
      "needs_background": "light"
     },
     "output_type": "display_data"
    }
   ],
   "source": [
    "data, id_rand = aux.metrics_rand(2, N, metrics, engines)\n",
    "\n",
    "fig, axs = plt.subplots(1, 2, figsize=(12, 4), sharey=True)\n",
    "\n",
    "axs[0].set_title(\n",
    "    f\"Precisión, Recall y Media Armónica para q{id_rand[0]}\")\n",
    "aux.bar_plot(\n",
    "    axs[0],\n",
    "    data[0],\n",
    "    metrics.keys(),\n",
    "    total_width=.8,\n",
    "    single_width=.9)\n",
    "\n",
    "axs[1].set_title(\n",
    "    f\"Precisión, Recall y Media Armónica para q{id_rand[1]}\"\n",
    ")\n",
    "aux.bar_plot(\n",
    "    axs[1],\n",
    "    data[1],\n",
    "    metrics.keys(),\n",
    "    total_width=.8,\n",
    "    single_width=.9)\n",
    "\n",
    "plt.show()"
   ]
  },
  {
   "cell_type": "markdown",
   "metadata": {},
   "source": [
    "Ahora enseñamos las estadísticas medias por buscador, así como la mediana, el mínimo y el máximo."
   ]
  },
  {
   "cell_type": "code",
   "execution_count": 7,
   "metadata": {
    "ExecuteTime": {
     "end_time": "2021-03-16T14:04:20.875011Z",
     "start_time": "2021-03-16T14:04:16.907372Z"
    }
   },
   "outputs": [
    {
     "data": {
      "image/png": "[encoded data removed]",
      "text/plain": [
       "<Figure size 864x720 with 4 Axes>"
      ]
     },
     "metadata": {
      "needs_background": "light"
     },
     "output_type": "display_data"
    }
   ],
   "source": [
    "fns = {\n",
    "    'medias': lambda x: np.mean(x, axis=0),\n",
    "    'medianas': lambda x: np.median(x, axis=0),\n",
    "    'mínimas': lambda x: np.min(x, axis=0),\n",
    "    'máximas': lambda x: np.max(x, axis=0),\n",
    "}\n",
    "\n",
    "data = aux.metrics_summary(fns.values(), metrics, engines)\n",
    "\n",
    "fig, axs = plt.subplots(2, 2, figsize=(12, 10))\n",
    "\n",
    "for i in range(2):\n",
    "    for j in range(2):\n",
    "        axs[i, j].set_title(\n",
    "            f\"Precisión, Recall y Media Armónica {list(fns.keys())[2*i+j]}\"\n",
    "        )\n",
    "        aux.bar_plot(axs[i, j], data[2*i+j], metrics.keys(),\n",
    "                     total_width=.8, single_width=.9)\n",
    "\n",
    "plt.show()"
   ]
  },
  {
   "cell_type": "markdown",
   "metadata": {},
   "source": [
    "Los resultados medios obtenidos por buscador para Precisión, Recall y Media Armónica son los siguientes, donde hemos resaltado en negrita los mejores valores en cada caso:\n",
    "\n",
    "| Buscador     | P          | R          | F          |\n",
    "|:------------:|:----------:|:----------:|:----------:|\n",
    "| bing         | 0.4931     | 0.3737     | 0.4142     |\n",
    "| duckduckgo   | 0.5310     | 0.4123     | 0.4509     |\n",
    "| ecosia       | 0.5000     | 0.3815     | 0.4213     |\n",
    "| google       | **0.6345** | **0.5569** | **0.5555** |\n",
    "\n",
    "Como vemos, para estas tres métricas Google es el vencedor, obteniendo una métrica media $F$ de 0.55, bastante por encima del siguiente buscador, que es DuckDuckGo. Google también se impone sobre el resto de buscadores en las métricas medias individuales $P$ y $R$. Por su parte, Bing es el que puntúa peor de todos en cuanto a la $F$ media.\n",
    "\n",
    "Las métricas P y R se corresponden con las métricas `P_10` y `recall_10` de `trec_eval`, mientras que `F` es una simple transformación de estas."
   ]
  },
  {
   "cell_type": "markdown",
   "metadata": {},
   "source": [
    "### Mean Average Precision (mAP)\n",
    "\n",
    "En primer lugar calculamos el Average Precision (AP) de cada buscador para cada consulta. Retomando la notación que introdujimos anteriormente, definimos esta métrica como:\n",
    "\n",
    "$$\n",
    "AP_q^{(s)}@10 = \\frac{\\sum_{k=1}^{10} P_q^{(s)}@k \\cdot \\mathcal I(d_{q,k}^{(s)} \\text{ es relevante})}{|Rel_q|},\n",
    "$$\n",
    "\n",
    "donde $\\mathcal I(\\cdot)$ es la función indicadora, $d_{q,k}^{(s)}$ representa el documento $k$-ésimo devuelto por el buscador $s$ para la consulta $q$ (es decir, el documento en la posición $k$), y la métrica *precision-at-k* es:\n",
    "\n",
    "$$\n",
    "P_q^{(s)}@k = \\frac{|\\{d_{q,1}^{(s)}, \\dots, d_{q,k}^{(s)}\\} \\cap Rel_q^{(s)}|}{k}. \\quad \n",
    "$$"
   ]
  },
  {
   "cell_type": "code",
   "execution_count": 8,
   "metadata": {
    "ExecuteTime": {
     "end_time": "2021-03-16T14:04:22.393049Z",
     "start_time": "2021-03-16T14:04:20.886718Z"
    }
   },
   "outputs": [],
   "source": [
    "AP = np.zeros((N, M))\n",
    "\n",
    "for i in range(N):\n",
    "    total_relevant_idx = sum(\n",
    "        (qrels['relevance'] > 0) & (qrels['id'] == i)\n",
    "    )\n",
    "    df_idx = df[df['id'] == i]\n",
    "\n",
    "    for j in range(M):\n",
    "        df_idx_eng = df_idx[df_idx['engine'] == engines[j]]\n",
    "\n",
    "        relevants = 0\n",
    "        sum_P = 0.0\n",
    "        for k, dd in enumerate(df_idx_eng.iterrows()):\n",
    "            if dd[1]['relevance'] > 0:\n",
    "                relevants += 1\n",
    "                sum_P += relevants/(k + 1)\n",
    "\n",
    "        AP[i, j] = sum_P/total_relevant_idx\n",
    "\n",
    "metrics = {'AP': AP}"
   ]
  },
  {
   "cell_type": "markdown",
   "metadata": {},
   "source": [
    "Enseñamos el AP de un par de consultas al azar."
   ]
  },
  {
   "cell_type": "code",
   "execution_count": 9,
   "metadata": {
    "ExecuteTime": {
     "end_time": "2021-03-16T14:04:23.569068Z",
     "start_time": "2021-03-16T14:04:22.402006Z"
    }
   },
   "outputs": [
    {
     "data": {
      "image/png": "[encoded data removed]",
      "text/plain": [
       "<Figure size 864x288 with 2 Axes>"
      ]
     },
     "metadata": {
      "needs_background": "light"
     },
     "output_type": "display_data"
    }
   ],
   "source": [
    "data, id_rand = aux.metrics_rand(2, N, metrics, engines)\n",
    "\n",
    "fig, axs = plt.subplots(1, 2, figsize=(12, 4), sharey=True)\n",
    "\n",
    "axs[0].set_title(\n",
    "    f\"Average Precision para q{id_rand[0]}\")\n",
    "aux.bar_plot(\n",
    "    axs[0],\n",
    "    data[0],\n",
    "    \"\",\n",
    "    total_width=.8,\n",
    "    single_width=.9)\n",
    "\n",
    "axs[1].set_title(\n",
    "    f\"Average Precision para q{id_rand[1]}\"\n",
    ")\n",
    "aux.bar_plot(\n",
    "    axs[1],\n",
    "    data[1],\n",
    "    \"\",\n",
    "    total_width=.8,\n",
    "    single_width=.9)\n",
    "\n",
    "plt.show()"
   ]
  },
  {
   "cell_type": "markdown",
   "metadata": {},
   "source": [
    "Calculamos ahora el valor de Mean Average Precision (mAP), que no es más que el valor medio sobre todas las consultas de la métrica AP (para cada buscador):\n",
    "\n",
    "$$\n",
    "mAP^{(s)}@10 = \\frac{\\sum_{q=0}^{28} AP_q^{(s)}@10}{28}.\n",
    "$$"
   ]
  },
  {
   "cell_type": "code",
   "execution_count": 10,
   "metadata": {
    "ExecuteTime": {
     "end_time": "2021-03-16T14:04:24.252089Z",
     "start_time": "2021-03-16T14:04:23.579212Z"
    }
   },
   "outputs": [
    {
     "data": {
      "image/png": "[encoded data removed]",
      "text/plain": [
       "<Figure size 432x360 with 1 Axes>"
      ]
     },
     "metadata": {
      "needs_background": "light"
     },
     "output_type": "display_data"
    }
   ],
   "source": [
    "fns = {'mean': lambda x: np.mean(x, axis=0)}\n",
    "\n",
    "data = aux.metrics_summary(fns.values(), metrics, engines)\n",
    "\n",
    "fig, ax = plt.subplots(figsize=(6, 5))\n",
    "\n",
    "ax.set_title(\"mAP\")\n",
    "aux.bar_plot(ax, data[0], \"\",\n",
    "             total_width=.8, single_width=.9)\n",
    "\n",
    "plt.show()"
   ]
  },
  {
   "cell_type": "markdown",
   "metadata": {},
   "source": [
    "Los valores de mAP para cada buscador son:\n",
    "\n",
    "| Buscador     | mAP        |\n",
    "|:------------:|:----------:|\n",
    "| bing         | 0.2821     | \n",
    "| duckduckgo   | 0.3237     | \n",
    "| ecosia       | 0.3022     |\n",
    "| google       | **0.4857** |\n",
    "\n",
    "De nuevo, Google se impone en esta métrica con bastante diferencia, y DuckDuckGo sigue en segundo puesto, mientras que Bing vuelve a ser el peor.\n",
    "\n",
    "Esta métrica se corresponde con la métrica `map` de `trec_eval`."
   ]
  },
  {
   "cell_type": "markdown",
   "metadata": {},
   "source": [
    "### Mean Reciprocal Rank (MRR)\n",
    "\n",
    "En primer lugar calculamos el Reciprocal Rank (RR) de cada buscador para cada consulta. Siguiendo la notación que hemos establecido, esta métrica se define como:\n",
    "\n",
    "$$\n",
    "RR_q^{(s)} = \\frac{1}{\\min\\{k | \\ d_{q,k}^{(s)} \\text{ es relevante}\\}}.\n",
    "$$\n",
    "\n",
    "Decidimos poner $RR_q^{(s)}=0$ cuando no haya ningún documento relevante entre los devueltos, de forma que no afecte después a la media."
   ]
  },
  {
   "cell_type": "code",
   "execution_count": 11,
   "metadata": {
    "ExecuteTime": {
     "end_time": "2021-03-16T14:04:25.196524Z",
     "start_time": "2021-03-16T14:04:24.263546Z"
    }
   },
   "outputs": [],
   "source": [
    "RR = np.zeros((N, M))\n",
    "\n",
    "for i in range(N):\n",
    "    df_idx = df[df['id'] == i]\n",
    "\n",
    "    for j in range(M):\n",
    "        df_idx_eng = df_idx[df_idx['engine'] == engines[j]]\n",
    "\n",
    "        if (df_idx_eng['relevance'] == 0).all():\n",
    "            RR[i, j] = 0.0\n",
    "        else:\n",
    "            # True > False, so we do argmax\n",
    "            RR[i, j] = 1./(np.argmax(df_idx_eng['relevance'] > 0) + 1)\n",
    "\n",
    "metrics = {'RR': RR}"
   ]
  },
  {
   "cell_type": "markdown",
   "metadata": {},
   "source": [
    "Enseñamos los valores de RR para dos consultas aleatorias."
   ]
  },
  {
   "cell_type": "code",
   "execution_count": 12,
   "metadata": {
    "ExecuteTime": {
     "end_time": "2021-03-16T14:04:26.646184Z",
     "start_time": "2021-03-16T14:04:25.209501Z"
    }
   },
   "outputs": [
    {
     "data": {
      "image/png": "[encoded data removed]",
      "text/plain": [
       "<Figure size 864x288 with 2 Axes>"
      ]
     },
     "metadata": {
      "needs_background": "light"
     },
     "output_type": "display_data"
    }
   ],
   "source": [
    "data, id_rand = aux.metrics_rand(2, N, metrics, engines)\n",
    "\n",
    "fig, axs = plt.subplots(1, 2, figsize=(12, 4), sharey=True)\n",
    "\n",
    "axs[0].set_title(\n",
    "    f\"Reciprocal Rank para q{id_rand[0]}\")\n",
    "aux.bar_plot(\n",
    "    axs[0],\n",
    "    data[0],\n",
    "    \"\",\n",
    "    total_width=.8,\n",
    "    single_width=.9)\n",
    "\n",
    "axs[1].set_title(\n",
    "    f\"Reciprocal Rank para q{id_rand[1]}\"\n",
    ")\n",
    "aux.bar_plot(\n",
    "    axs[1],\n",
    "    data[1],\n",
    "    \"\",\n",
    "    total_width=.8,\n",
    "    single_width=.9)\n",
    "\n",
    "plt.show()"
   ]
  },
  {
   "cell_type": "markdown",
   "metadata": {},
   "source": [
    "Calculamos ahora los valores de la métrica mRR para cada buscador, que no es más que hacer la media de RR para todas las consultas consideradas:\n",
    "\n",
    "$$\n",
    "mRR^{(s)} = \\frac{\\sum_{q=0}^{28} RR_q^{(s)}}{28}.\n",
    "$$"
   ]
  },
  {
   "cell_type": "code",
   "execution_count": 13,
   "metadata": {
    "ExecuteTime": {
     "end_time": "2021-03-16T14:04:27.332728Z",
     "start_time": "2021-03-16T14:04:26.661395Z"
    }
   },
   "outputs": [
    {
     "data": {
      "image/png": "[encoded data removed]",
      "text/plain": [
       "<Figure size 432x360 with 1 Axes>"
      ]
     },
     "metadata": {
      "needs_background": "light"
     },
     "output_type": "display_data"
    }
   ],
   "source": [
    "fns = {'mean': lambda x: np.mean(x, axis=0)}\n",
    "\n",
    "data = aux.metrics_summary(fns.values(), metrics, engines)\n",
    "\n",
    "fig, ax = plt.subplots(figsize=(6, 5))\n",
    "\n",
    "ax.set_title(\"mRR\")\n",
    "aux.bar_plot(ax, data[0], \"\",\n",
    "             total_width=.8, single_width=.9)\n",
    "\n",
    "plt.show()"
   ]
  },
  {
   "cell_type": "markdown",
   "metadata": {},
   "source": [
    "Los valores de mRR para cada buscador son:\n",
    "\n",
    "| Buscador     | mRR        |\n",
    "|:------------:|:----------:|\n",
    "| bing         | 0.7138     | \n",
    "| duckduckgo   | 0.7701     | \n",
    "| ecosia       | 0.7337     |\n",
    "| google       | **0.9224** |\n",
    "\n",
    "Los resultados siguien en la misma tónica que anteriormente: Google supera al resto con diferencia, le sigue DuckDuckgo, luego Ecosia y finalmente Bing.\n",
    "\n",
    "Esta métrica se corresponde con la métrica `recip_rank` de `trec_eval`."
   ]
  },
  {
   "cell_type": "markdown",
   "metadata": {},
   "source": [
    "### Normalized Discounted Cumulated Gain (nDCG)\n",
    "\n",
    "La métrica nDCG se define como \n",
    "\n",
    "$$\n",
    "nDCG_q^{(s)}=\\frac{DCG_q^{(s)}}{IDCG_q^{(s)}}.\n",
    "$$\n",
    "\n",
    "Si $g\\left(d_{q, k}^{(s)}\\right)$ representa el grado de relevancia (en nuestro caso en $\\{0, 1, 2\\}$) del documento $k$-ésimo devuelto por el buscador $s$ para la consulta $q$, entonces\n",
    "\n",
    "$$\n",
    "DCG_q^{(s)} = \\sum_{k=1}^{|Ret_q^{(s)}|} \\frac{g\\left(d_{q, k}^{(s)}\\right)}{\\log_2(k+1)},\n",
    "$$\n",
    "\n",
    "donde notamos que los documentos no relevantes no contribuyen al sumatorio. Por otro lado, la constante de normalización es el DCG ideal, que viene dado por\n",
    "\n",
    "$$\n",
    "IDCG_q^{(s)} = \\max_{R\\in Rel_q} DCG_q^{(s)}(R),\n",
    "$$\n",
    "\n",
    "que no es más que el mayor DCG que podríamos conseguir teniendo en cuenta el corpus completo de documentos relevantes para la consulta $q$. Gracias a esta normalización, el valor de $nDCG$ se encuentra en $[0,1]$ y es comparable para diferentes consultas.\n",
    "\n",
    "En nuestro caso, como solo tenemos 10 documentos por cada consulta y buscador, lo que calculamos realmente es:\n",
    "\n",
    "$$\n",
    "nDCG_q^{(s)}@10 = \\frac{DCG_q^{(s)}@10}{IDCG_q^{(s)}@10}.\n",
    "$$"
   ]
  },
  {
   "cell_type": "code",
   "execution_count": 14,
   "metadata": {
    "ExecuteTime": {
     "end_time": "2021-03-16T14:04:29.386280Z",
     "start_time": "2021-03-16T14:04:27.344361Z"
    }
   },
   "outputs": [],
   "source": [
    "def DCG(df, lim=None):\n",
    "    if lim is None:\n",
    "        lim = df.shape[0]\n",
    "\n",
    "    return np.sum(\n",
    "        [df.iloc[k]['relevance']/(np.log2(k + 2))\n",
    "         for k in range(min(lim, df.shape[0]))]\n",
    "    )\n",
    "\n",
    "\n",
    "nDCG = np.zeros((N, M))\n",
    "\n",
    "for i in range(N):\n",
    "    df_idx = df[df['id'] == i]\n",
    "    df_idx_top_rel = qrels[qrels['id'] == i].sort_values(\n",
    "        by=[\"relevance\"], ascending=False\n",
    "    )\n",
    "    IDCG = DCG(df_idx_top_rel, lim=AT)\n",
    "\n",
    "    for j in range(M):\n",
    "        df_idx_eng = df_idx[df_idx['engine'] == engines[j]]\n",
    "\n",
    "        nDCG[i, j] = DCG(df_idx_eng)/IDCG\n",
    "\n",
    "metrics = {'nDCG': nDCG}"
   ]
  },
  {
   "cell_type": "markdown",
   "metadata": {},
   "source": [
    "Mostramos el valor de nDCG para dos consultas al azar."
   ]
  },
  {
   "cell_type": "code",
   "execution_count": 15,
   "metadata": {
    "ExecuteTime": {
     "end_time": "2021-03-16T14:04:30.822159Z",
     "start_time": "2021-03-16T14:04:29.394304Z"
    },
    "scrolled": true
   },
   "outputs": [
    {
     "data": {
      "image/png": "[encoded data removed]",
      "text/plain": [
       "<Figure size 864x288 with 2 Axes>"
      ]
     },
     "metadata": {
      "needs_background": "light"
     },
     "output_type": "display_data"
    }
   ],
   "source": [
    "data, id_rand = aux.metrics_rand(2, N, metrics, engines)\n",
    "\n",
    "fig, axs = plt.subplots(1, 2, figsize=(12, 4), sharey=True)\n",
    "\n",
    "axs[0].set_title(\n",
    "    f\"nDCG para q{id_rand[0]}\"\n",
    ")\n",
    "aux.bar_plot(\n",
    "    axs[0],\n",
    "    data[0],\n",
    "    \"\",\n",
    "    total_width=.8,\n",
    "    single_width=.9\n",
    ")\n",
    "\n",
    "axs[1].set_title(\n",
    "    f\"nDCG para q{id_rand[1]}\"\n",
    ")\n",
    "aux.bar_plot(\n",
    "    axs[1],\n",
    "    data[1],\n",
    "    \"\",\n",
    "    total_width=.8,\n",
    "    single_width=.9\n",
    ")\n",
    "\n",
    "plt.show()"
   ]
  },
  {
   "cell_type": "markdown",
   "metadata": {},
   "source": [
    "Finalmente mostramos el valor medio de la métrica para cada buscador, promediando nDCG sobre todas las consultas."
   ]
  },
  {
   "cell_type": "code",
   "execution_count": 16,
   "metadata": {
    "ExecuteTime": {
     "end_time": "2021-03-16T14:04:31.889465Z",
     "start_time": "2021-03-16T14:04:30.835967Z"
    },
    "scrolled": true
   },
   "outputs": [
    {
     "data": {
      "image/png": "[encoded data removed]",
      "text/plain": [
       "<Figure size 432x360 with 1 Axes>"
      ]
     },
     "metadata": {
      "needs_background": "light"
     },
     "output_type": "display_data"
    }
   ],
   "source": [
    "fns = {'mean': lambda x: np.mean(x, axis=0)}\n",
    "\n",
    "data = aux.metrics_summary(fns.values(), metrics, engines)\n",
    "\n",
    "fig, ax = plt.subplots(figsize=(6, 5))\n",
    "\n",
    "ax.set_title(\"nDCG medio\")\n",
    "aux.bar_plot(ax, data[0], \"\",\n",
    "             total_width=.8, single_width=.9)\n",
    "\n",
    "plt.show()"
   ]
  },
  {
   "cell_type": "markdown",
   "metadata": {},
   "source": [
    "Los valores medios de nDCG para cada buscador son:\n",
    "\n",
    "| Buscador     | nDCG       |\n",
    "|:------------:|:----------:|\n",
    "| bing         | 0.4871     | \n",
    "| duckduckgo   | 0.5246     | \n",
    "| ecosia       | 0.4811     |\n",
    "| google       | **0.6696** |\n",
    "\n",
    "De nuevo se observa el mismo ranking que con el resto de métricas, con la excepción de que en este caso Bing supera a Ecosia por la mínima.\n",
    "\n",
    "Esta métrica se corresponde con la métrica `ndcg_cut_10` de `trec_eval`."
   ]
  },
  {
   "cell_type": "markdown",
   "metadata": {},
   "source": [
    "### Expected Reciprocal Rank (ERR)\n",
    "\n",
    "La métrica ERR se define como\n",
    "\n",
    "$$\n",
    "ERR_q^{(s)} = \\sum_{k=1}^{|Ret_q^{(s)}|} \\frac{1}{k} p\\left(r\\mid d_{q,k}^{(s)}\\right) \\prod_{j=1}^{k-1} \\left(1-p\\left(r\\mid d_{q,j}^{(s)}\\right)\\right),\n",
    "$$\n",
    "\n",
    "donde $p(r\\mid d)$ representa la probabilidad de quedar satisfecho con el documento $d$ (entendida como una función de utilidad). Esta probabilidad se puede modelar de varias maneras, siendo las dos principales:\n",
    "\n",
    "- $p(r\\mid d) = \\displaystyle\\frac{2^{g(d)} - 1}{2^{\\max g}}$, donde $g$ es una función que modela el grado de relevancia de los documentos (en nuestro caso, $g(d)\\in \\{0, 1, 2\\}$).\n",
    "\n",
    "- $p(r\\mid d) = \\begin{cases} 1 & \\text{si $d$ es relevante},\\\\ 0, & \\text{en otro caso}.\\end{cases}$\n",
    "\n",
    "Nosotros consideramos principalmente la primera opción, aunque la herramienta `ndeval` implementa la segunda. Por tanto, calculamos también el valor de EER en ese caso, para comparar con el que devuelve la utilidad."
   ]
  },
  {
   "cell_type": "code",
   "execution_count": 17,
   "metadata": {
    "ExecuteTime": {
     "end_time": "2021-03-16T14:04:34.780956Z",
     "start_time": "2021-03-16T14:04:31.902174Z"
    }
   },
   "outputs": [],
   "source": [
    "def p_rel_ndeval(relevance):\n",
    "    \"\"\"Relevance function from ndeval.\"\"\"\n",
    "    return 1 if relevance > 0 else 0\n",
    "\n",
    "\n",
    "def p_rel(relevance):\n",
    "    \"\"\"Our relevance function.\"\"\"\n",
    "    return (2**relevance - 1) / 2**2\n",
    "\n",
    "\n",
    "def compute_ERR(utility_func):\n",
    "\n",
    "    ERR = np.zeros((N, M))\n",
    "\n",
    "    for i in range(N):\n",
    "        df_idx = df[df['id'] == i]\n",
    "\n",
    "        for j in range(M):\n",
    "            df_idx_eng = df_idx[df_idx['engine'] == engines[j]]\n",
    "            num_ret = df_idx_eng.shape[0]\n",
    "\n",
    "            p_rel_acum = 1.0\n",
    "            ERR_aux = 0.0\n",
    "            for k in range(num_ret):\n",
    "                p_rel_curr = \\\n",
    "                    utility_func(df_idx_eng.iloc[k]['relevance']) \n",
    "                ERR_aux += p_rel_curr*p_rel_acum/(k+1)\n",
    "                p_rel_acum *= 1 - p_rel_curr\n",
    "\n",
    "            ERR[i, j] = np.sum(ERR_aux)\n",
    "            \n",
    "    return ERR\n",
    "\n",
    "\n",
    "metrics = {\n",
    "    'ERR': compute_ERR(p_rel),\n",
    "    'EER_ndeval': compute_ERR(p_rel_ndeval)\n",
    "}"
   ]
  },
  {
   "cell_type": "markdown",
   "metadata": {},
   "source": [
    "Mostramos el valor de ERR para un par de consultas al azar, utilizando las dos funciones de utilidad mencionadas antes."
   ]
  },
  {
   "cell_type": "code",
   "execution_count": 18,
   "metadata": {
    "ExecuteTime": {
     "end_time": "2021-03-16T14:04:36.393284Z",
     "start_time": "2021-03-16T14:04:34.790190Z"
    },
    "scrolled": true
   },
   "outputs": [
    {
     "data": {
      "image/png": "[encoded data removed]",
      "text/plain": [
       "<Figure size 864x288 with 2 Axes>"
      ]
     },
     "metadata": {
      "needs_background": "light"
     },
     "output_type": "display_data"
    }
   ],
   "source": [
    "data, id_rand = aux.metrics_rand(2, N, metrics, engines)\n",
    "\n",
    "fig, axs = plt.subplots(1, 2, figsize=(12, 4), sharey=True)\n",
    "\n",
    "axs[0].set_title(\n",
    "    f\"ERR para q{id_rand[0]}\")\n",
    "aux.bar_plot(\n",
    "    axs[0],\n",
    "    data[0],\n",
    "    metrics.keys(),\n",
    "    total_width=.8,\n",
    "    single_width=.9)\n",
    "\n",
    "axs[1].set_title(\n",
    "    f\"ERR para q{id_rand[1]}\"\n",
    ")\n",
    "aux.bar_plot(\n",
    "    axs[1],\n",
    "    data[1],\n",
    "    metrics.keys(),\n",
    "    total_width=.8,\n",
    "    single_width=.9)\n",
    "\n",
    "plt.show()"
   ]
  },
  {
   "cell_type": "markdown",
   "metadata": {},
   "source": [
    "Finalmente mostramos el valor medio de ERR para cada buscador, promediando sobre todas las consultas."
   ]
  },
  {
   "cell_type": "code",
   "execution_count": 19,
   "metadata": {
    "ExecuteTime": {
     "end_time": "2021-03-16T14:04:37.255118Z",
     "start_time": "2021-03-16T14:04:36.401448Z"
    }
   },
   "outputs": [
    {
     "data": {
      "image/png": "[encoded data removed]",
      "text/plain": [
       "<Figure size 432x360 with 1 Axes>"
      ]
     },
     "metadata": {
      "needs_background": "light"
     },
     "output_type": "display_data"
    }
   ],
   "source": [
    "fns = {'mean': lambda x: np.mean(x, axis=0)}\n",
    "\n",
    "data = aux.metrics_summary(fns.values(), metrics, engines)\n",
    "\n",
    "fig, ax = plt.subplots(figsize=(6, 5))\n",
    "\n",
    "ax.set_title(\"ERR medio\")\n",
    "aux.bar_plot(ax, data[0], metrics.keys(),\n",
    "             total_width=.8, single_width=.9)\n",
    "\n",
    "plt.show()"
   ]
  },
  {
   "cell_type": "markdown",
   "metadata": {},
   "source": [
    "Los valores medios de ERR para cada buscador utilizando ambas funciones de utilidad son:\n",
    "\n",
    "| Buscador     | ERR        | ERR_ndeval |\n",
    "|:------------:|:----------:|:----------:|\n",
    "| bing         | 0.5459     | 0.7138     | \n",
    "| duckduckgo   | 0.5843     | 0.7701     |\n",
    "| ecosia       | 0.5368     | 0.7337     |\n",
    "| google       | **0.6461** | **0.9224** |\n",
    "\n",
    "Google encabeza esta métrica, seguido de DuckDuckGo, luego Bing, y esta vez el perdedor es Ecosia. Como vemos, obtenemos valores más grandes de la métrica en el caso de la segunda fución de utilidad, porque premiamos de igual manera los documentos relevantes, sea cual sea su grado de relevancia.\n",
    "\n",
    "Los valores de la última columna se corresponden con la métrica `ERR-IA@10` de `ndeval` cuando establecemos `alpha=1`. "
   ]
  },
  {
   "cell_type": "markdown",
   "metadata": {},
   "source": [
    "### Rank-Biased Precision (RBP)\n",
    "\n",
    "La métrica RBP surge de asumir como simplificación que la probabilidad de pasar al documento siguiente es constante en todas las posiciones: $p(\\text{cont}\\mid d)=p$. Teniendo esto en cuenta, se define como:\n",
    "\n",
    "$$\n",
    "RBP_q^{(s)}(p)= (1-p)\\sum_{k=1}^{|Ret_q^{(s)}|} p^{k-1}g\\left( d_{q,k}^{(s)}\\right).\n",
    "$$\n",
    "\n",
    "\n",
    "Un último detalle es que, si queremos que el valor de la métrica esté normalizado en $[0,1]$, debemos dividir toda la expresión por el máximo valor de relevancia que podemos tener, que en nuestro caso es $\\max g = 2$ (ver por ejemplo ${\\color{blue}{[1]}}$). Entonces, la expresión final sería:\n",
    "\n",
    "$$\n",
    "RBP_q^{(s)}(p)= \\frac{(1-p)}{\\max g}\\sum_{k=1}^{|Ret_q^{(s)}|} p^{k-1}g\\left( d_{q,k}^{(s)}\\right).\n",
    "$$\n",
    "\n",
    "Esto es así porque la constante de normalización $1-p$ está pensada originalmente para el caso de relevancia binaria. De hecho, como `ndeval` implementa por defecto esta opción, también consideramos alternativamente esta función de relevancia para hacer las cuentas (es decir, solo nos importa si un documento es relevante o no).\n",
    "\n",
    "Para nuestras cuentas, tomamos por ejemplo $p=0.8$."
   ]
  },
  {
   "cell_type": "code",
   "execution_count": 20,
   "metadata": {
    "ExecuteTime": {
     "end_time": "2021-03-16T14:04:40.586526Z",
     "start_time": "2021-03-16T14:04:37.267101Z"
    }
   },
   "outputs": [],
   "source": [
    "def p_rel_ndeval(relevance):\n",
    "    \"\"\"Relevance function from ndeval.\"\"\"\n",
    "    return 1 if relevance > 0 else 0\n",
    "\n",
    "\n",
    "def p_rel(relevance):\n",
    "    \"\"\"Our relevance function: g(d)/(max g).\"\"\"\n",
    "    return relevance/2.\n",
    "\n",
    "\n",
    "def compute_RBP(p, rel_func):\n",
    "\n",
    "    RBP = np.zeros((N, M))\n",
    "\n",
    "    for i in range(N):\n",
    "        df_idx = df[df['id'] == i]\n",
    "\n",
    "        for j in range(M):\n",
    "            df_idx_eng = df_idx[df_idx['engine'] == engines[j]]\n",
    "            num_ret = df_idx_eng.shape[0]\n",
    "\n",
    "            # Binary relevance\n",
    "            RBP[i, j] = (1-p) * np.sum(\n",
    "                [(p**k) * rel_func(df_idx_eng.iloc[k]['relevance'])\n",
    "                for k in range(num_ret)])\n",
    "            \n",
    "    return RBP\n",
    "\n",
    "\n",
    "metrics = {\n",
    "    'RBP': compute_RBP(p=0.8, rel_func=p_rel),\n",
    "    'RBP_ndeval': compute_RBP(p=0.8, rel_func=p_rel_ndeval)\n",
    "}"
   ]
  },
  {
   "cell_type": "markdown",
   "metadata": {},
   "source": [
    "Mostramos el valor de RBP para dos consultas aleatorias, utilizando las dos posibles funciones de relevancia."
   ]
  },
  {
   "cell_type": "code",
   "execution_count": 21,
   "metadata": {
    "ExecuteTime": {
     "end_time": "2021-03-16T14:04:42.459463Z",
     "start_time": "2021-03-16T14:04:40.599863Z"
    },
    "scrolled": false
   },
   "outputs": [
    {
     "data": {
      "image/png": "[encoded data removed]",
      "text/plain": [
       "<Figure size 864x288 with 2 Axes>"
      ]
     },
     "metadata": {
      "needs_background": "light"
     },
     "output_type": "display_data"
    }
   ],
   "source": [
    "data, id_rand = aux.metrics_rand(2, N, metrics, engines)\n",
    "\n",
    "fig, axs = plt.subplots(1, 2, figsize=(12, 4), sharey=True)\n",
    "\n",
    "axs[0].set_title(\n",
    "    f\"RBP(0.8) para q{id_rand[0]}\")\n",
    "aux.bar_plot(\n",
    "    axs[0],\n",
    "    data[0],\n",
    "    metrics.keys(),\n",
    "    total_width=.8,\n",
    "    single_width=.9)\n",
    "\n",
    "axs[1].set_title(\n",
    "    f\"RBP(0.8) para q{id_rand[1]}\"\n",
    ")\n",
    "aux.bar_plot(\n",
    "    axs[1],\n",
    "    data[1],\n",
    "    metrics.keys(),\n",
    "    total_width=.8,\n",
    "    single_width=.9)\n",
    "\n",
    "plt.show()"
   ]
  },
  {
   "cell_type": "code",
   "execution_count": 22,
   "metadata": {
    "ExecuteTime": {
     "end_time": "2021-03-16T14:04:43.244783Z",
     "start_time": "2021-03-16T14:04:42.474220Z"
    },
    "scrolled": true
   },
   "outputs": [
    {
     "data": {
      "image/png": "[encoded data removed]",
      "text/plain": [
       "<Figure size 432x360 with 1 Axes>"
      ]
     },
     "metadata": {
      "needs_background": "light"
     },
     "output_type": "display_data"
    }
   ],
   "source": [
    "fns = {'mean': lambda x: np.mean(x, axis=0)}\n",
    "\n",
    "data = aux.metrics_summary(fns.values(), metrics, engines)\n",
    "\n",
    "fig, ax = plt.subplots(figsize=(6, 5))\n",
    "\n",
    "ax.set_title(\"RBP(0.8) medio\")\n",
    "aux.bar_plot(ax, data[0], metrics.keys(),\n",
    "             total_width=.8, single_width=.9)\n",
    "\n",
    "plt.show()"
   ]
  },
  {
   "cell_type": "markdown",
   "metadata": {},
   "source": [
    "Los valores medios de RBP para cada buscador utilizando las dos funciones de relevancia son:\n",
    "\n",
    "| Buscador     | RBP        | RBP_ndeval |\n",
    "|:------------:|:----------:|:----------:|\n",
    "| bing         | 0.3853     | 0.4854     | \n",
    "| duckduckgo   | 0.4109     | 0.5312     |\n",
    "| ecosia       | 0.3755     | 0.5006     |\n",
    "| google       | **0.4894** | **0.6399** |\n",
    "\n",
    "En ambos casos se mantiene más o menos el ranking que veníamos viendo hasta ahora.\n",
    "\n",
    "Los valores de la última columna se corresponden con la métrica `NRBP` de `ndeval` cuando establecemos `alpha=0` y `beta=0.8`. "
   ]
  },
  {
   "cell_type": "markdown",
   "metadata": {},
   "source": [
    "### Resumen de métricas\n",
    "\n",
    "Para concluir mostramos en la misma tabla todas las métricas consideradas.\n",
    "\n",
    "| Buscador     | P          | R          | F          | mAP        | mRR        | nDCG       | ERR        | ERR_ndeval | RBP        | RBP_ndeval |\n",
    "|:------------:|:----------:|:----------:|:----------:|:----------:|:----------:|:----------:|:----------:|:----------:|:----------:|:----------:|\n",
    "| bing         | 0.4931     | 0.3737     | 0.4142     | 0.2821     | 0.7138     | 0.4871     | 0.5459     | 0.7138     | 0.3853     | 0.4854     |\n",
    "| duckduckgo   | 0.5310     | 0.4123     | 0.4509     | 0.3237     | 0.7701     | 0.5246     | 0.5843     | 0.7701     | 0.4109     | 0.5312     |\n",
    "| ecosia       | 0.5000     | 0.3815     | 0.4213     | 0.3022     | 0.7337     | 0.4811     | 0.5368     | 0.7337     | 0.3755     | 0.5006     |\n",
    "| google       | **0.6345** | **0.5569** | **0.5555** | **0.4857** | **0.9224** | **0.6696** | **0.6461** | **0.9224** | **0.4894** | **0.6399** |\n",
    "\n",
    "\n",
    "\n",
    "No hay duda de que Google es el claro vencedor, mientras que Bing parece ser el peor, seguido no muy de lejos por Ecosia. Por su parte, DuckDuckGo parece ser más competitivo pero no consigue acercarse a las métricas que obtiene Google."
   ]
  },
  {
   "cell_type": "markdown",
   "metadata": {},
   "source": [
    "## Evaluación online con clicks\n",
    "\n",
    "Realizar una evaluación basada en clicks utilizando los logs obtenidos de la sesión de búsqueda realizada por los alumnos:\n",
    "\n",
    "- [Log de clicks completo](http://ir.ii.uam.es/~alejandro/2020/ir/click-log.txt).\n",
    "- [Log de clicks agregado](http://ir.ii.uam.es/~alejandro/2020/ir/click-count.txt).\n",
    "- [Rankings devueltos por los buscadores para las consultas que han recibido](http://ir.ii.uam.es/~alejandro/2020/ir/rankings_mod.txt).\n",
    "\n",
    "Calcular las siguientes métricas para los buscadores que aparecen en el log: \n",
    "\n",
    "- Clicks por consulta.\n",
    "- Tasa de abandono.\n",
    "- Max RR y Mean RR. \n",
    "\n",
    "Ignorar por el momento los clicks atribuidos a rankings intercalados `google+bing` (se propone más abajo como ejercicio opcional)."
   ]
  },
  {
   "cell_type": "markdown",
   "metadata": {},
   "source": [
    "### Lectura de datos"
   ]
  },
  {
   "cell_type": "code",
   "execution_count": 23,
   "metadata": {
    "ExecuteTime": {
     "end_time": "2021-03-16T14:04:43.679566Z",
     "start_time": "2021-03-16T14:04:43.262200Z"
    }
   },
   "outputs": [],
   "source": [
    "# Load data\n",
    "\n",
    "click_log = pd.read_csv(\n",
    "    \"http://ir.ii.uam.es/~alejandro/2020/ir/click-log.txt\",\n",
    "    usecols=[1, 2, 4],\n",
    "    sep=\"\\t\",\n",
    "    header=0,\n",
    "    names=[\"engine\", \"id\", \"rank_clicked\"]\n",
    ")\n",
    "\n",
    "click_count = pd.read_csv(\n",
    "    \"http://ir.ii.uam.es/~alejandro/2020/ir/click-count.txt\",\n",
    "    usecols=[1, 2, 3],\n",
    "    sep=\"\\t\",\n",
    "    header=0,\n",
    "    names=[\"engine\", \"id\", \"count\"]\n",
    ")\n",
    "\n",
    "# Sort dataframes\n",
    "\n",
    "click_log = click_log.sort_values(\n",
    "    by=[\"id\", \"engine\", \"rank_clicked\"]\n",
    ")\n",
    "\n",
    "click_count = click_count.sort_values(\n",
    "    by=[\"id\", \"engine\", \"count\"]\n",
    ")\n",
    "\n",
    "# Drop google+bing\n",
    "\n",
    "click_log = click_log[click_log.engine != 'google+bing']\n",
    "click_count = click_count[click_count.engine != 'google+bing']"
   ]
  },
  {
   "cell_type": "code",
   "execution_count": 24,
   "metadata": {
    "ExecuteTime": {
     "end_time": "2021-03-16T14:04:43.760113Z",
     "start_time": "2021-03-16T14:04:43.697866Z"
    }
   },
   "outputs": [],
   "source": [
    "# Save useful information\n",
    "engines = click_log['engine'].unique()\n",
    "M = len(engines)"
   ]
  },
  {
   "cell_type": "markdown",
   "metadata": {},
   "source": [
    "### Clicks por consulta\n",
    "\n",
    "Simplemente miramos cuántos clicks hay por cada buscador para cada consulta, y hacemos la media por buscadores. Si $Q^{(s)}$ es el conjunto total de consultas (sesiones) para el buscador $q$, esta métrica se define como\n",
    "\n",
    "$$\n",
    "\\operatorname{ClicksPerSession}^{(s)} = \\frac{1}{|Q^{(s)}|} \\sum_{q=1}^{|Q^{(s)}|} |Clk^{(s)}_q|,\n",
    "$$\n",
    "\n",
    "donde $Clk_q^{(s)}$ es el conjunto de documentos clickados para la consulta (sesión) $q$ en el buscador $s$. Esta métrica podemos calcularla teniendo en cuenta únicamente las consultas con algún click, o teniendo en cuenta todas las consultas (sufijo `_all` en los resultados que siguen)."
   ]
  },
  {
   "cell_type": "code",
   "execution_count": 39,
   "metadata": {
    "ExecuteTime": {
     "end_time": "2021-03-16T14:11:54.231951Z",
     "start_time": "2021-03-16T14:11:54.076368Z"
    }
   },
   "outputs": [
    {
     "name": "stdout",
     "output_type": "stream",
     "text": [
      "Clicks por consulta solo con las consultas con algún click:\n"
     ]
    },
    {
     "data": {
      "text/html": [
       "<div>\n",
       "<style scoped>\n",
       "    .dataframe tbody tr th:only-of-type {\n",
       "        vertical-align: middle;\n",
       "    }\n",
       "\n",
       "    .dataframe tbody tr th {\n",
       "        vertical-align: top;\n",
       "    }\n",
       "\n",
       "    .dataframe thead th {\n",
       "        text-align: right;\n",
       "    }\n",
       "</style>\n",
       "<table border=\"1\" class=\"dataframe\">\n",
       "  <thead>\n",
       "    <tr style=\"text-align: right;\">\n",
       "      <th></th>\n",
       "      <th>engine</th>\n",
       "      <th>count</th>\n",
       "    </tr>\n",
       "  </thead>\n",
       "  <tbody>\n",
       "    <tr>\n",
       "      <th>0</th>\n",
       "      <td>ask</td>\n",
       "      <td>2.480000</td>\n",
       "    </tr>\n",
       "    <tr>\n",
       "      <th>1</th>\n",
       "      <td>bing</td>\n",
       "      <td>1.333333</td>\n",
       "    </tr>\n",
       "    <tr>\n",
       "      <th>2</th>\n",
       "      <td>duckduckgo</td>\n",
       "      <td>1.905405</td>\n",
       "    </tr>\n",
       "    <tr>\n",
       "      <th>3</th>\n",
       "      <td>google</td>\n",
       "      <td>2.253165</td>\n",
       "    </tr>\n",
       "  </tbody>\n",
       "</table>\n",
       "</div>"
      ],
      "text/plain": [
       "       engine     count\n",
       "0         ask  2.480000\n",
       "1        bing  1.333333\n",
       "2  duckduckgo  1.905405\n",
       "3      google  2.253165"
      ]
     },
     "execution_count": 39,
     "metadata": {},
     "output_type": "execute_result"
    }
   ],
   "source": [
    "data = click_count[click_count['count'] > 0].groupby(\n",
    "['engine'], as_index=False)[\"count\"].mean()\n",
    "\n",
    "print(\"Clicks por consulta solo con las consultas con algún click:\")\n",
    "data"
   ]
  },
  {
   "cell_type": "code",
   "execution_count": 26,
   "metadata": {
    "ExecuteTime": {
     "end_time": "2021-03-16T14:04:44.602229Z",
     "start_time": "2021-03-16T14:04:43.910283Z"
    }
   },
   "outputs": [
    {
     "data": {
      "image/png": "[encoded data removed]",
      "text/plain": [
       "<Figure size 432x288 with 1 Axes>"
      ]
     },
     "metadata": {
      "needs_background": "light"
     },
     "output_type": "display_data"
    }
   ],
   "source": [
    "plt.bar(data[\"engine\"], data[\"count\"])\n",
    "plt.title(\"Clicks por consulta de media\")\n",
    "plt.show()"
   ]
  },
  {
   "cell_type": "code",
   "execution_count": 40,
   "metadata": {
    "ExecuteTime": {
     "end_time": "2021-03-16T14:11:59.721200Z",
     "start_time": "2021-03-16T14:11:59.582030Z"
    },
    "scrolled": false
   },
   "outputs": [
    {
     "name": "stdout",
     "output_type": "stream",
     "text": [
      "Clicks por consulta con todas las consultas:\n"
     ]
    },
    {
     "data": {
      "text/html": [
       "<div>\n",
       "<style scoped>\n",
       "    .dataframe tbody tr th:only-of-type {\n",
       "        vertical-align: middle;\n",
       "    }\n",
       "\n",
       "    .dataframe tbody tr th {\n",
       "        vertical-align: top;\n",
       "    }\n",
       "\n",
       "    .dataframe thead th {\n",
       "        text-align: right;\n",
       "    }\n",
       "</style>\n",
       "<table border=\"1\" class=\"dataframe\">\n",
       "  <thead>\n",
       "    <tr style=\"text-align: right;\">\n",
       "      <th></th>\n",
       "      <th>engine</th>\n",
       "      <th>count</th>\n",
       "    </tr>\n",
       "  </thead>\n",
       "  <tbody>\n",
       "    <tr>\n",
       "      <th>0</th>\n",
       "      <td>ask</td>\n",
       "      <td>1.550000</td>\n",
       "    </tr>\n",
       "    <tr>\n",
       "      <th>1</th>\n",
       "      <td>bing</td>\n",
       "      <td>0.041667</td>\n",
       "    </tr>\n",
       "    <tr>\n",
       "      <th>2</th>\n",
       "      <td>duckduckgo</td>\n",
       "      <td>1.468750</td>\n",
       "    </tr>\n",
       "    <tr>\n",
       "      <th>3</th>\n",
       "      <td>google</td>\n",
       "      <td>1.663551</td>\n",
       "    </tr>\n",
       "  </tbody>\n",
       "</table>\n",
       "</div>"
      ],
      "text/plain": [
       "       engine     count\n",
       "0         ask  1.550000\n",
       "1        bing  0.041667\n",
       "2  duckduckgo  1.468750\n",
       "3      google  1.663551"
      ]
     },
     "execution_count": 40,
     "metadata": {},
     "output_type": "execute_result"
    }
   ],
   "source": [
    "data_all = click_count.groupby(\n",
    "    [\"engine\"], as_index=False)[\"count\"].mean()\n",
    "\n",
    "print(\"Clicks por consulta con todas las consultas:\")\n",
    "data_all"
   ]
  },
  {
   "cell_type": "code",
   "execution_count": 28,
   "metadata": {
    "ExecuteTime": {
     "end_time": "2021-03-16T14:04:45.544703Z",
     "start_time": "2021-03-16T14:04:44.749065Z"
    }
   },
   "outputs": [
    {
     "data": {
      "image/png": "[encoded data removed]",
      "text/plain": [
       "<Figure size 432x288 with 1 Axes>"
      ]
     },
     "metadata": {
      "needs_background": "light"
     },
     "output_type": "display_data"
    }
   ],
   "source": [
    "plt.bar(data_all[\"engine\"], data_all[\"count\"])\n",
    "plt.title(\"Clicks por consulta de media con todas las consultas\")\n",
    "plt.show()"
   ]
  },
  {
   "cell_type": "markdown",
   "metadata": {},
   "source": [
    "### Tasa de abandono\n",
    "\n",
    "Se trata del ratio de sesiones que acaban sin ningún click sobre el total de sesiones para cada buscador:\n",
    "\n",
    "$$\n",
    "\\operatorname{DropoutRate^{(s)}} = \\frac{\\left|\\left\\{q \\in Q^{(s)}: \\, Clk_q^{(s)}=\\emptyset \\right\\}\\right|}{|Q^{(s)}|}.\n",
    "$$"
   ]
  },
  {
   "cell_type": "code",
   "execution_count": 29,
   "metadata": {
    "ExecuteTime": {
     "end_time": "2021-03-16T14:04:45.716863Z",
     "start_time": "2021-03-16T14:04:45.555564Z"
    }
   },
   "outputs": [
    {
     "name": "stdout",
     "output_type": "stream",
     "text": [
      "Tasa de abandono:\n"
     ]
    },
    {
     "data": {
      "text/html": [
       "<div>\n",
       "<style scoped>\n",
       "    .dataframe tbody tr th:only-of-type {\n",
       "        vertical-align: middle;\n",
       "    }\n",
       "\n",
       "    .dataframe tbody tr th {\n",
       "        vertical-align: top;\n",
       "    }\n",
       "\n",
       "    .dataframe thead th {\n",
       "        text-align: right;\n",
       "    }\n",
       "</style>\n",
       "<table border=\"1\" class=\"dataframe\">\n",
       "  <thead>\n",
       "    <tr style=\"text-align: right;\">\n",
       "      <th></th>\n",
       "      <th>engine</th>\n",
       "      <th>dropout rate</th>\n",
       "    </tr>\n",
       "  </thead>\n",
       "  <tbody>\n",
       "    <tr>\n",
       "      <th>0</th>\n",
       "      <td>ask</td>\n",
       "      <td>0.375</td>\n",
       "    </tr>\n",
       "    <tr>\n",
       "      <th>1</th>\n",
       "      <td>bing</td>\n",
       "      <td>0.96875</td>\n",
       "    </tr>\n",
       "    <tr>\n",
       "      <th>2</th>\n",
       "      <td>duckduckgo</td>\n",
       "      <td>0.229167</td>\n",
       "    </tr>\n",
       "    <tr>\n",
       "      <th>3</th>\n",
       "      <td>google</td>\n",
       "      <td>0.261682</td>\n",
       "    </tr>\n",
       "  </tbody>\n",
       "</table>\n",
       "</div>"
      ],
      "text/plain": [
       "       engine dropout rate\n",
       "0         ask        0.375\n",
       "1        bing      0.96875\n",
       "2  duckduckgo     0.229167\n",
       "3      google     0.261682"
      ]
     },
     "execution_count": 29,
     "metadata": {},
     "output_type": "execute_result"
    }
   ],
   "source": [
    "df_abandon = click_count[click_count['count'] == 0]\n",
    "count_abandon = df_abandon.groupby(\"engine\", as_index=False)[\n",
    "    'count'].count().to_numpy()\n",
    "count_all = click_count.groupby(\"engine\", as_index=False)[\n",
    "    'count'].count().to_numpy()\n",
    "count_abandon[:, 1] /= count_all[:, 1]\n",
    "dropout = pd.DataFrame(\n",
    "    count_abandon, columns=[\"engine\", \"dropout rate\"])\n",
    "\n",
    "print(\"Tasa de abandono:\")\n",
    "dropout"
   ]
  },
  {
   "cell_type": "code",
   "execution_count": 30,
   "metadata": {
    "ExecuteTime": {
     "end_time": "2021-03-16T14:04:46.393630Z",
     "start_time": "2021-03-16T14:04:45.727755Z"
    }
   },
   "outputs": [
    {
     "data": {
      "image/png": "[encoded data removed]",
      "text/plain": [
       "<Figure size 432x288 with 1 Axes>"
      ]
     },
     "metadata": {
      "needs_background": "light"
     },
     "output_type": "display_data"
    }
   ],
   "source": [
    "plt.bar(dropout[\"engine\"], dropout[\"dropout rate\"])\n",
    "plt.title(\"Tasa de abandono\")\n",
    "plt.show()"
   ]
  },
  {
   "cell_type": "markdown",
   "metadata": {},
   "source": [
    "## Mean RR and Max RR\n",
    "\n",
    "Para calcular estas métricas atendemos a la definición dada en ${\\color{blue}{[2]}}$. Concretamente, tenemos:\n",
    "\n",
    "$$\\operatorname{MeanRR}^{(s)}= \\frac{1}{|Q^{(s)}|} \\sum_{q=1}^{|Q^{(s)}|} \\operatorname{SumRR}_q^{(s)},\n",
    "$$\n",
    "\n",
    "donde \n",
    "$$\n",
    "\\operatorname{SumRR}_q^{(s)} = \\sum_{k=1}^{|Ret_q^{(s)}|} \\frac{1}{k}\\mathcal I\\left(d_{q,k}^{(s)} \\text{ ha sido clickado}\\right).\n",
    "$$\n",
    "\n",
    "Notamos que podemos normalizar esta métrica y dividir en cada caso por el número de documentos clickados, haciendo efectivamente \"la media de la media\", obteniendo la versión normalizada:\n",
    "\n",
    "$$\n",
    "\\operatorname{MeanRR}^{(s)}= \\frac{1}{|Q^{(s)}|} \\sum_{q=1}^{|Q^{(s)}|} \\frac{1}{|Clk_q^{(s)}|}\\sum_{k=1}^{|Ret_q^{(s)}|} \\frac{1}{k}\\mathcal I\\left(d_{q,k}^{(s)} \\text{ ha sido clickado}\\right),\n",
    "$$\n",
    "\n",
    "Por otro lado, se define\n",
    "\n",
    "$$\n",
    "\\operatorname{MaxRR}^{(s)}= \\frac{1}{|Q^{(s)}|} \\sum_{q=1}^{|Q^{(s)}|}\\frac{1}{\\operatorname{rank}_q^{(s)}},\n",
    "$$\n",
    "\n",
    "donde $\\operatorname{rank}_q^{(s)}$ es la posición más alta en el ranking de entre los resultados clickados para la consulta $q$ en el buscador $s$.\n",
    "\n",
    "\n",
    "Normalmente estas métricas se calculan únicamente teniendo en cuenta consultas con algún click. Sin embargo, damos también la opción de calcularla con todas las consultas disponibles, dando a la métrica el valor 0 en aquellas donde no haya habido ningún click (lo que indicamos con el sufijo `_all` en lo que sigue)."
   ]
  },
  {
   "cell_type": "code",
   "execution_count": 31,
   "metadata": {
    "ExecuteTime": {
     "end_time": "2021-03-16T14:04:58.080620Z",
     "start_time": "2021-03-16T14:04:46.401554Z"
    }
   },
   "outputs": [],
   "source": [
    "def compute_mean_max_RR(value_not_clicked=np.nan):\n",
    "    Mean_RR = np.empty(M, dtype=object)\n",
    "    Max_RR = np.empty(M, dtype=object)\n",
    "\n",
    "    for i in range(M):\n",
    "        df_engine = click_log[click_log['engine'] == engines[i]]\n",
    "        Mean_RR[i] = []\n",
    "        Max_RR[i] = []\n",
    "\n",
    "        for qid in df_engine['id'].unique():\n",
    "            df_idx_eng = \\\n",
    "                df_engine[df_engine['id'] == qid].dropna()\n",
    "\n",
    "            if df_idx_eng.size > 0:\n",
    "                Mean_RR[i].append(\n",
    "                    (1./df_idx_eng['rank_clicked']).mean())\n",
    "                Max_RR[i].append(\n",
    "                    (1./df_idx_eng['rank_clicked']).max())\n",
    "            else:\n",
    "                Mean_RR[i].append(value_not_clicked)\n",
    "                Max_RR[i].append(value_not_clicked)\n",
    "\n",
    "    return Mean_RR, Max_RR\n",
    "\n",
    "\n",
    "Mean_RR, Max_RR = compute_mean_max_RR(np.nan)\n",
    "Mean_RR_all, Max_RR_all = compute_mean_max_RR(0.0)\n",
    "\n",
    "metrics_meanRR = {\n",
    "    'Mean_RR': Mean_RR,\n",
    "    'Mean_RR_all': Mean_RR_all\n",
    "}\n",
    "metrics_maxRR = {\n",
    "    'Max_RR': Max_RR,\n",
    "    'Max_RR_all': Max_RR_all\n",
    "}"
   ]
  },
  {
   "cell_type": "markdown",
   "metadata": {},
   "source": [
    "Mostramos ahora los valores de Mean RR y Max RR para cada buscador."
   ]
  },
  {
   "cell_type": "code",
   "execution_count": 32,
   "metadata": {
    "ExecuteTime": {
     "end_time": "2021-03-16T14:04:59.817297Z",
     "start_time": "2021-03-16T14:04:58.091522Z"
    }
   },
   "outputs": [
    {
     "data": {
      "image/png": "[encoded data removed]",
      "text/plain": [
       "<Figure size 864x288 with 2 Axes>"
      ]
     },
     "metadata": {
      "needs_background": "light"
     },
     "output_type": "display_data"
    }
   ],
   "source": [
    "def mean_list(lst):\n",
    "    mean_arr = np.zeros(len(lst))\n",
    "    \n",
    "    for i, x in enumerate(lst):\n",
    "        mean_arr[i] = np.nanmean(x)\n",
    "    \n",
    "    return mean_arr\n",
    "\n",
    "\n",
    "fns = {\n",
    "    'mean': mean_list\n",
    "}\n",
    "\n",
    "data_meanRR = aux.metrics_summary(\n",
    "    fns.values(), metrics_meanRR, engines)\n",
    "data_maxRR = aux.metrics_summary(\n",
    "    fns.values(), metrics_maxRR, engines)\n",
    "\n",
    "fig, axs = plt.subplots(1, 2, figsize=(12, 4), sharey=True)\n",
    "\n",
    "axs[0].set_title(\n",
    "    f\"Mean RR\")\n",
    "aux.bar_plot(\n",
    "    axs[0],\n",
    "    data_meanRR[0],\n",
    "    metrics_meanRR.keys(),\n",
    "    total_width=.8,\n",
    "    single_width=.9)\n",
    "\n",
    "axs[1].set_title(\"Max RR\")\n",
    "aux.bar_plot(\n",
    "    axs[1],\n",
    "    data_maxRR[0],\n",
    "    metrics_maxRR.keys(),\n",
    "    total_width=.8,\n",
    "    single_width=.9)\n",
    "\n",
    "plt.show()"
   ]
  },
  {
   "cell_type": "markdown",
   "metadata": {},
   "source": [
    "Los valores obtenidos para la métrica Mean RR son, según la estrategia seguida para valorar consultas sin clicks:\n",
    "\n",
    "| Buscador     | Mean_RR    | Mean_RR_all |\n",
    "|:------------:|:----------:|:-----------:|\n",
    "| bing         | **0.9167** | 0.0287      | \n",
    "| duckduckgo   | 0.6095     | **0.4698**  |\n",
    "| google       | 0.5844     | 0.4315      |\n",
    "| ask          | 0.6395     | 0.3997      |\n",
    "\n",
    "Los valores obtenidos para la métrica Max RR según la estrategia seguida para valorar consultas sin clicks son:\n",
    "\n",
    "| Buscador     | Max_RR     | Max_RR_all |\n",
    "|:------------:|:----------:|:----------:|\n",
    "| bing         | **1.0000** | 0.0313     | \n",
    "| duckduckgo   | 0.7605     | **0.5862** |\n",
    "| google       | 0.7711     | 0.5694     |\n",
    "| ask          | 0.8423     | 0.5265     |\n",
    "\n",
    "Como vemos, si ignoramos las consultas sin clicks el buscador Bing obtiene unos valores muy altos para las métricas, pero esto ocurre porque tiene muy pocas consultas con algún click. En general, podemos decir que DuckDuckGo es el vencedor, si hacemos caso a la métrica que considera todas las consultas, que quizás es más justa."
   ]
  },
  {
   "cell_type": "markdown",
   "metadata": {},
   "source": [
    "### Resumen de métricas\n",
    "\n",
    "Mostramos a continuación una tabla resumen con todas las métricas:\n",
    "\n",
    "| Buscador     | Mean_RR    | Mean_RR_all | Max_RR     | Max_RR_all | Tasa abandono | Clicks/consulta | Clicks/consulta_all |\n",
    "|:------------:|:----------:|:-----------:|:----------:|:----------:|:----------:|:----------:|:---------:|\n",
    "| bing         | **0.9167** | 0.0287      | **1.0000** | 0.0313     | 0.9688 | 0.0417 | 1.3333 |\n",
    "| duckduckgo   | 0.6095     | **0.4698**  | 0.7605     | **0.5862** | **0.2292** | 1.4688 | 1.9054 |\n",
    "| google       | 0.5844     | 0.4315      | 0.7711     | 0.5694     | 0.2617 | **1.6636** | 2.2532 |\n",
    "| ask          | 0.6395     | 0.3997      | 0.8423     | 0.5265     | 0.3750 | 1.5500 | **2.4800** |\n",
    "\n",
    "Como vemos, en la evaluación online ya no está tan claro que Google siga imponiéndose, ya que por ejemplo DuckDuckGo obtiene mejores resultados en la mayoría de métricas consideradas."
   ]
  },
  {
   "cell_type": "markdown",
   "metadata": {},
   "source": [
    "## Evaluación A/B (ejercicio opcional)\n",
    "\n",
    "Realizar una evaluación A/B de Google vs. Bing utilizando los clicks sobre ránkings intercalados `google+bing` del ejercicio anterior, sabiendo que se ha utilizado el método balanceado. A criterio del propio estudiante, decidir el número de consultas a procesar en el ejercicio para dimensionar razonablemente el esfuerzo vs. provecho del estudiante."
   ]
  },
  {
   "cell_type": "markdown",
   "metadata": {},
   "source": [
    "### Lectura de datos"
   ]
  },
  {
   "cell_type": "code",
   "execution_count": 33,
   "metadata": {
    "ExecuteTime": {
     "end_time": "2021-03-16T14:05:00.203359Z",
     "start_time": "2021-03-16T14:04:59.827246Z"
    }
   },
   "outputs": [],
   "source": [
    "# Load data\n",
    "\n",
    "click_log = pd.read_csv(\n",
    "    \"http://ir.ii.uam.es/~alejandro/2020/ir/click-log.txt\",\n",
    "    usecols=[1, 2, 4, 5],\n",
    "    sep=\"\\t\",\n",
    "    header=0,\n",
    "    names=[\"engine\", \"id\", \"rank_clicked\", \"url\"]\n",
    ")\n",
    "\n",
    "click_ranking = pd.read_csv(\n",
    "    \"http://ir.ii.uam.es/~alejandro/2020/ir/rankings_mod.txt\",\n",
    "    usecols=[0, 1, 2, 3],\n",
    "    sep=\"\\t\",\n",
    "    header=0,\n",
    "    names=[\"id\", \"engine\", \"rank\", \"url\"]\n",
    ")\n",
    "\n",
    "# Sort dataframes\n",
    "\n",
    "click_log = click_log.sort_values(\n",
    "    by=[\"id\", \"engine\", \"rank_clicked\"]\n",
    ")\n",
    "\n",
    "click_ranking = click_ranking.sort_values(\n",
    "    by=[\"id\", \"engine\", \"rank\"]\n",
    ")\n",
    "\n",
    "# Drop duckduckgo and ask\n",
    "\n",
    "click_log = click_log[\n",
    "    (click_log.engine != 'ask') &\n",
    "    (click_log.engine != 'duckduckgo')]\n",
    "\n",
    "click_ranking = click_ranking[\n",
    "    (click_ranking.engine != 'ask') &\n",
    "    (click_ranking.engine != 'duckduckgo')]"
   ]
  },
  {
   "cell_type": "markdown",
   "metadata": {},
   "source": [
    "En principio nos quedamos para la evaluación con todas las consultas que tengan como buscador `google+bing`. Después, eliminaremos del cómputo aquellas que tengan campos inválidos o incoherentes."
   ]
  },
  {
   "cell_type": "code",
   "execution_count": 34,
   "metadata": {
    "ExecuteTime": {
     "end_time": "2021-03-16T14:05:00.313750Z",
     "start_time": "2021-03-16T14:05:00.213058Z"
    }
   },
   "outputs": [
    {
     "name": "stdout",
     "output_type": "stream",
     "text": [
      "Total de consultas consideradas: 75\n",
      "#qid de consultas consideradas: {384, 129, 386, 388, 133, 261, 390, 264, 137, 266, 11, 140, 392, 394, 395, 272, 145, 403, 20, 149, 23, 25, 282, 409, 28, 284, 295, 168, 169, 423, 44, 45, 176, 436, 184, 441, 59, 443, 448, 65, 67, 69, 70, 454, 200, 74, 75, 202, 333, 334, 81, 340, 341, 342, 87, 215, 219, 347, 350, 225, 98, 353, 228, 358, 359, 360, 234, 109, 365, 240, 381, 372, 247, 249, 253}\n"
     ]
    }
   ],
   "source": [
    "ids = set(click_ranking[click_ranking.engine == 'google+bing'][\"id\"])\n",
    "print(\"Total de consultas consideradas:\", len(ids))\n",
    "print(\"#qid de consultas consideradas:\", ids)"
   ]
  },
  {
   "cell_type": "markdown",
   "metadata": {},
   "source": [
    "### Realización del test\n",
    "\n",
    "Para realizar la evaluación A/B de Google vs. Bing seguimos el método balanceado descrito en ${\\color{blue}{[2]}}$. Suponemos que tenemos los resultados ordenados de Google $A=(A_1, A_2,\\dots)$, los de Bing $B=(B_1,B_2,\\dots)$ y los del ránking intercalado $I=(I_1, I_2,\\dots)$. El esquema de evaluación es el que sigue.\n",
    "\n",
    "Para cada consulta $q$:\n",
    "\n",
    "- Calculamos el rango (posición) $l$ del último documento clickado en el ranking intercalado $I$.\n",
    "- Elegimos $k = \\min\\{j : \\, (A_j=I_l) \\lor (B_j=I_l)\\}$, y truncamos tanto $A$ como $B$ a los $k$ primeros documentos: $A=(A_1,\\dots,A_k)$, $B=(B_1,\\dots, B_k)$.\n",
    "- Para cada documento del ránking intercalado $I_j$, $j=1,\\dots,l$, sumamos un punto a Google si existe $m\\leq k$ tal que $A_m=I_j$, y sumamos otro a Bing si existe $m'\\leq k$ con $B_{m'}=I_j$.\n",
    "- El vencedor de esta consulta será el buscador con más puntos (con más clicks en el top $k$), pudiendo quedar en empate.\n",
    "\n",
    "Finalmente, el vencedor del test será el buscador que gane más consultas. "
   ]
  },
  {
   "cell_type": "markdown",
   "metadata": {},
   "source": [
    "Implementamos a continuación una función que desarrolle este test. Eliminaremos del conjunto de consultas aquellas donde no haya habido ningún click o donde haya datos insuficientes."
   ]
  },
  {
   "cell_type": "code",
   "execution_count": 46,
   "metadata": {
    "ExecuteTime": {
     "end_time": "2021-03-16T14:27:29.032694Z",
     "start_time": "2021-03-16T14:27:28.733254Z"
    }
   },
   "outputs": [],
   "source": [
    "# Perform A/B click attribution\n",
    "\n",
    "def test_AB(ids, click_log, click_ranking, verbose=False):\n",
    "    \"\"\"Perform A/B evaluation on the set of queries 'ids'.\"\"\"\n",
    "\n",
    "    wins = np.zeros(2, dtype=int)  # Wins for google and bing\n",
    "    no_click = 0  # Queries without clicks\n",
    "    no_data = 0  # Queries with insufficient data\n",
    "\n",
    "    for idx in ids:\n",
    "        df_c = click_log[click_log.id == idx]\n",
    "        df_r = click_ranking[click_ranking.id == idx]\n",
    "\n",
    "        # Compute deepest result in interleaved ranking\n",
    "        l = np.max(df_c['rank_clicked'])\n",
    "        url = df_c[df_c.rank_clicked == l]['url'].values\n",
    "\n",
    "        if url.size == 0:\n",
    "            if verbose:\n",
    "                print(f\"[info] En la consulta {idx} no hubo ningún click.\")\n",
    "            no_click += 1\n",
    "            continue\n",
    "        else:\n",
    "            url = url[0]\n",
    "\n",
    "        # Compute k\n",
    "        rank_A = df_r[\n",
    "            (df_r.engine == 'google') & \n",
    "            (df_r.url == url)]['rank'].values\n",
    "        rank_B = df_r[\n",
    "            (df_r.engine == 'bing') & \n",
    "            (df_r.url == url)]['rank'].values\n",
    "\n",
    "        if rank_A.size == 0 and rank_B.size == 0: \n",
    "            if verbose:\n",
    "                print(\n",
    "                    f\"[info] En la consulta {idx} no hay datos ni de Google ni de Bing.\")\n",
    "            no_data += 1\n",
    "            continue\n",
    "        elif rank_A.size == 0:\n",
    "            k = rank_B[0]\n",
    "        elif rank_B.size == 0:\n",
    "            k = rank_A[0]\n",
    "        else:\n",
    "            k = min(rank_A[0], rank_B[0])\n",
    "\n",
    "        # Truncate results of A and B only to top k\n",
    "        urls_google = df_r[\n",
    "            (df_r.engine == 'google')]['url'].values[:k]\n",
    "        urls_bing = df_r[\n",
    "            (df_r.engine == 'bing')]['url'].values[:k]\n",
    "\n",
    "        # Loop through results and attribute clicks\n",
    "        score = np.zeros(2, dtype=int)  # Score for google and bing\n",
    "        for row in df_c['url']:\n",
    "            if row in urls_google:\n",
    "                score[0] += 1\n",
    "            if row in urls_bing:\n",
    "                score[1] += 1\n",
    "\n",
    "        if verbose:\n",
    "            print(f\"-- Consulta {idx} --\")\n",
    "            print(f\"  Truncamiento @{k}\")\n",
    "            print(f\"  Atribución [Google Bing] = {score}\")\n",
    "\n",
    "        # Compute winner for this query\n",
    "        if score[0] > score[1]:\n",
    "            wins[0] += 1\n",
    "        elif score[1] > score[0]:\n",
    "            wins[1] += 1\n",
    "        else:\n",
    "            if verbose:\n",
    "                print(\n",
    "                    f\"[info] La consulta {idx} ha resultado en empate a {score[0]}.\")\n",
    "    \n",
    "    print(\"Evaluación A/B finalizada.\")\n",
    "\n",
    "    if not verbose:\n",
    "        print(\"Si se quiere obtener un desglose detallado de los\" +\n",
    "              \" scores en cada consulta, ejecutar con 'verbose=True'.\")\n",
    "\n",
    "    return wins, no_click, no_data"
   ]
  },
  {
   "cell_type": "markdown",
   "metadata": {},
   "source": [
    "Ejecutamos el test sobre nuestra batería de consultas y mostramos los resultados."
   ]
  },
  {
   "cell_type": "code",
   "execution_count": 47,
   "metadata": {
    "ExecuteTime": {
     "end_time": "2021-03-16T14:30:59.388604Z",
     "start_time": "2021-03-16T14:30:57.678594Z"
    }
   },
   "outputs": [
    {
     "name": "stdout",
     "output_type": "stream",
     "text": [
      "Evaluación A/B finalizada.\n",
      "Si se quiere obtener un desglose detallado de los scores en cada consulta, ejecutar con 'verbose=True'.\n",
      "\n",
      "Google: 52/55 consultas ganadas\n",
      "Bing: 1/55 consultas ganadas\n",
      "Empates: 2/55\n",
      "\n",
      "Consultas con 0 clicks: 12\n",
      "Consultas con datos insuficientes: 8\n"
     ]
    }
   ],
   "source": [
    "# Print results\n",
    "\n",
    "wins, no_click, no_data = test_AB(\n",
    "    ids, click_log, click_ranking, verbose=False)\n",
    "valid = len(ids) - no_click - no_data\n",
    "\n",
    "print(f\"\\nGoogle: {wins[0]}/{valid} consultas ganadas\")\n",
    "print(f\"Bing: {wins[1]}/{valid} consultas ganadas\")\n",
    "print(f\"Empates: {valid - sum(wins)}/{valid}\")\n",
    "\n",
    "print(f\"\\nConsultas con 0 clicks: {no_click}\")\n",
    "print(f\"Consultas con datos insuficientes: {no_data}\")"
   ]
  },
  {
   "cell_type": "markdown",
   "metadata": {},
   "source": [
    "Como vemos, Google ha ganado la mayoría de las consultas (52/55), por lo que es el vencedor de nuestro test A/B, con mucha diferencia. Sin embargo, si inspeccionamos los resultados con más detalle (`verbose=True`) nos damos cuenta de que en la mayoría de las consultas Bing obtiene 0 puntos. Echando un vistazo al dataset, esto se debe a que para muchas consultas no tenemos datos del ránking en Bing, proporcionando una ventaja injusta a Google. Es por esto que tiene más sentido si repetimos el experimento y **consideramos únicamente aquellas consultas donde tenemos datos de Google y Bing**."
   ]
  },
  {
   "cell_type": "code",
   "execution_count": 48,
   "metadata": {
    "ExecuteTime": {
     "end_time": "2021-03-16T14:31:09.321095Z",
     "start_time": "2021-03-16T14:31:09.230556Z"
    }
   },
   "outputs": [
    {
     "name": "stdout",
     "output_type": "stream",
     "text": [
      "Subconjunto de consultas consideradas: 6\n",
      "#qid de consultas consideradas: {358, 202, 436, 149, 87, 59}\n"
     ]
    }
   ],
   "source": [
    "ids_google = set(click_ranking[click_ranking.engine == 'google'][\"id\"])\n",
    "ids_bing = set(click_ranking[click_ranking.engine == 'bing'][\"id\"])\n",
    "ids_red = ids & ids_google & ids_bing\n",
    "print(\"Subconjunto de consultas consideradas:\", len(ids_red))\n",
    "print(\"#qid de consultas consideradas:\", ids_red)"
   ]
  },
  {
   "cell_type": "markdown",
   "metadata": {},
   "source": [
    "Ejecutamos de nuevo el test con este conjunto reducido de consultas."
   ]
  },
  {
   "cell_type": "code",
   "execution_count": 49,
   "metadata": {
    "ExecuteTime": {
     "end_time": "2021-03-16T14:31:14.531210Z",
     "start_time": "2021-03-16T14:31:14.216461Z"
    }
   },
   "outputs": [
    {
     "name": "stdout",
     "output_type": "stream",
     "text": [
      "-- Consulta 358 --\n",
      "  Truncamiento @5\n",
      "  Atribución [Google Bing] = [4 3]\n",
      "-- Consulta 202 --\n",
      "  Truncamiento @6\n",
      "  Atribución [Google Bing] = [4 4]\n",
      "[info] La consulta 202 ha resultado en empate a 4.\n",
      "-- Consulta 436 --\n",
      "  Truncamiento @1\n",
      "  Atribución [Google Bing] = [1 1]\n",
      "[info] La consulta 436 ha resultado en empate a 1.\n",
      "-- Consulta 149 --\n",
      "  Truncamiento @1\n",
      "  Atribución [Google Bing] = [1 0]\n",
      "-- Consulta 87 --\n",
      "  Truncamiento @6\n",
      "  Atribución [Google Bing] = [6 0]\n",
      "-- Consulta 59 --\n",
      "  Truncamiento @4\n",
      "  Atribución [Google Bing] = [1 0]\n",
      "Evaluación A/B finalizada.\n",
      "\n",
      "Google: 4/6 consultas ganadas\n",
      "Bing: 0/6 consultas ganadas\n",
      "Empates: 2/6\n",
      "\n",
      "Consultas con 0 clicks: 0\n",
      "Consultas con datos insuficientes: 0\n"
     ]
    }
   ],
   "source": [
    "# Print results\n",
    "wins, no_click, no_data = test_AB(\n",
    "    ids_red, click_log, click_ranking, verbose=True)\n",
    "valid = len(ids_red) - no_click - no_data\n",
    "\n",
    "print(f\"\\nGoogle: {wins[0]}/{valid} consultas ganadas\")\n",
    "print(f\"Bing: {wins[1]}/{valid} consultas ganadas\")\n",
    "print(f\"Empates: {valid - sum(wins)}/{valid}\")\n",
    "\n",
    "print(f\"\\nConsultas con 0 clicks: {no_click}\")\n",
    "print(f\"Consultas con datos insuficientes: {no_data}\")"
   ]
  },
  {
   "cell_type": "markdown",
   "metadata": {},
   "source": [
    "Vemos que en este caso sigue ganando Google (4/6), por lo que finalmente lo declaramos vencedor del test A/B."
   ]
  },
  {
   "cell_type": "markdown",
   "metadata": {},
   "source": [
    "### Test de significatividad\n",
    "\n",
    "Como paso final, podemos realizar un [test del signo binomial](https://en.wikipedia.org/wiki/Sign_test) para evaluar la significatividad estadística de nuestro test A/B. Concretamente, la probabilidad de que Google fuera mejor que Bing *por casualidad* en 52 de las 55 consultas consideradas es más pequeña o igual que:\n",
    "\n",
    "$$\n",
    "\\mathbb P(X \\geq 52) = \\sum_{j=52}^{55}\\begin{pmatrix} 55\\\\ j\\end{pmatrix} 0.5^{j} 0.5^{55-j} \\approx 7.7\\cdot 10^{-13} \\approx 0.\n",
    "$$\n",
    "\n",
    "Es decir, la probabilidad de que Google haya ganado nuestro test completo por casualidad es esencialmente $0$. Si consideramos solo el subconjunto de consultas de nuestro segundo experimento, la probabilidad de que Google fuera mejor que Bing *por casualidad* en 4 de las 6 consultas es menor o igual que:\n",
    "\n",
    "$$\n",
    "\\mathbb P(X \\geq 4) = \\sum_{j=4}^{6}\\begin{pmatrix} 6\\\\ j\\end{pmatrix} 0.5^{j} 0.5^{6-j} \\approx 0.3438.\n",
    "$$\n",
    "\n",
    "En este caso la probabilidad es bastante alta, pero esto se debe a que en este segundo experimento se han utilizado muy pocas consultas."
   ]
  },
  {
   "cell_type": "markdown",
   "metadata": {},
   "source": [
    "## Referencias\n",
    "\n",
    "${\\color{blue}{[1]}}$ Sakai, T., Kando, N. On information retrieval metrics designed for evaluation with incomplete relevance assessments. *Inf Retrieval 11*, 447–470 (2008). [https://doi.org/10.1007/s10791-008-9059-7](https://doi.org/10.1007/s10791-008-9059-7)         \n",
    "\n",
    "\n",
    "${\\color{blue}{[2]}}$ Radlinski, Filip, Madhu Kurup, and Thorsten Joachims. \"How does clickthrough data reflect retrieval quality?.\" In *Proceedings of the 17th ACM conference on Information and knowledge management*, pp. 43-52. 2008. [https://doi.org/10.1145/1458082.1458092](https://doi.org/10.1145/1458082.1458092)"
   ]
  }
 ],
 "metadata": {
  "kernelspec": {
   "display_name": "Python 3",
   "language": "python",
   "name": "python3"
  },
  "language_info": {
   "codemirror_mode": {
    "name": "ipython",
    "version": 3
   },
   "file_extension": ".py",
   "mimetype": "text/x-python",
   "name": "python",
   "nbconvert_exporter": "python",
   "pygments_lexer": "ipython3",
   "version": "3.9.5"
  },
  "latex_envs": {
   "LaTeX_envs_menu_present": false,
   "autoclose": true,
   "autocomplete": false,
   "bibliofile": "bibliography.bib",
   "cite_by": "apalike",
   "current_citInitial": 1,
   "eqLabelWithNumbers": true,
   "eqNumInitial": 1,
   "hotkeys": {
    "equation": "Ctrl-E",
    "itemize": "Ctrl-I"
   },
   "labels_anchors": false,
   "latex_user_defs": false,
   "report_style_numbering": false,
   "user_envs_cfg": false
  },
  "toc": {
   "base_numbering": 1,
   "nav_menu": {},
   "number_sections": true,
   "sideBar": true,
   "skip_h1_title": false,
   "title_cell": "Table of Contents",
   "title_sidebar": "Contents",
   "toc_cell": false,
   "toc_position": {},
   "toc_section_display": true,
   "toc_window_display": false
  },
  "varInspector": {
   "cols": {
    "lenName": 16,
    "lenType": 16,
    "lenVar": 40
   },
   "kernels_config": {
    "python": {
     "delete_cmd_postfix": "",
     "delete_cmd_prefix": "del ",
     "library": "var_list.py",
     "varRefreshCmd": "print(var_dic_list())"
    },
    "r": {
     "delete_cmd_postfix": ") ",
     "delete_cmd_prefix": "rm(",
     "library": "var_list.r",
     "varRefreshCmd": "cat(var_dic_list()) "
    }
   },
   "types_to_exclude": [
    "module",
    "function",
    "builtin_function_or_method",
    "instance",
    "_Feature"
   ],
   "window_display": false
  }
 },
 "nbformat": 4,
 "nbformat_minor": 4
}
